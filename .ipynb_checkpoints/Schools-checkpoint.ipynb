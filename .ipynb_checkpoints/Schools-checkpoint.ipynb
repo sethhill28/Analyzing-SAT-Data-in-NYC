{
 "cells": [
  {
   "cell_type": "markdown",
   "metadata": {},
   "source": [
    "# Analyzing NYC High School Data \n",
    "In this notebook we will clean, transform, and analyze multiple datasets containing information on highschools in New York City. The main goals of this project are: \n",
    "1. Cleaing and combining the datasets\n",
    "2. Discovering correlations between the variables from each data set and the school's SAT score\n",
    "3. Discovering the relationship between features such as geography, race, and sex and SAT score. "
   ]
  },
  {
   "cell_type": "markdown",
   "metadata": {
    "collapsed": true
   },
   "source": [
    "We will analyze multiple datasets in this notebook, here is a brief description: \n",
    "\n",
    "1. SAT scores by school - SAT scores for each high school in New York City\n",
    "2. School attendance - Attendance information for each school in New York City\n",
    "3. Class size - Information on class size for each school\n",
    "4. AP test results - Advanced Placement (AP) exam results for each high school (passing an optional AP exam in a particular subject can earn a student college credit in that subject)\n",
    "5. Graduation outcomes - The percentage of students who graduated, and other outcome information\n",
    "6. Demographics - Demographic information for each school\n",
    "7. School survey - Surveys of parents, teachers, and students at each school"
   ]
  },
  {
   "cell_type": "markdown",
   "metadata": {},
   "source": [
    "# Survey Data Dictionary \n",
    "Many of the variables from each data set are fairly self explanatory, but the variables from the survey dataset are a bit more difficult to understand. \n",
    "\n",
    "* dbn: School identification code (district borough number)\n",
    "* sch_type: School type (Elementary, Middle, High, etc)\n",
    "* location: School name\n",
    "* enrollment: Enrollment size\n",
    "* borough: Borough\n",
    "* principal: Principal name\n",
    "* studentsurvey: Only students in grades 6-12 partipate in the student survey. This field indicates whether or not this school serves any students in grades 6-12.\n",
    "* rr_s: Student Response Rate\n",
    "* rr_t: Teacher Response Rate\n",
    "* rr_p: Parent Response Rate\n",
    "* N_s: Number of student respondents\n",
    "* N_t: Number of teacher respondents\n",
    "* N_p: Number of parent respondents\n",
    "* nr_s: Number of eligible students\n",
    "* nr_t: Number of eligible teachers\n",
    "* nr_p: Number of eligible parents\n",
    "* saf_p_10: Safety and Respect score based on parent responses\n",
    "* com_p_10: Communication score based on parent responses\n",
    "* eng_p_10: Engagement score based on parent responses\n",
    "* aca_p_10: Academic expectations score based on parent responses\n",
    "* saf_t_10: Safety and Respect score based on teacher responses\n",
    "* com_t_10: Communication score based on teacher responses\n",
    "* eng_t_10: Engagement score based on teacher responses\n",
    "* aca_t_10: Academic expectations score based on teacher responses\n",
    "* saf_s_10: Safety and Respect score based on student responses\n",
    "* com_s_10: Communication score based on student responses\n",
    "* eng_s_10: Engagement score based on student responses\n",
    "* aca_s_10: Academic expectations score based on student responses\n",
    "* saf_tot_10: Safety and Respect total score\n",
    "* com_tot_10: Communication total score\n",
    "* eng_tot_10: Engagement total score\n",
    "* aca_tot_10: Academic Expectations total score"
   ]
  },
  {
   "cell_type": "markdown",
   "metadata": {},
   "source": [
    "# Read in the data"
   ]
  },
  {
   "cell_type": "code",
   "execution_count": 1,
   "metadata": {},
   "outputs": [],
   "source": [
    "import pandas as pd\n",
    "import numpy\n",
    "import re\n",
    "\n",
    "data_files = [\n",
    "    \"ap_2010.csv\",\n",
    "    \"class_size.csv\",\n",
    "    \"demographics.csv\",\n",
    "    \"graduation.csv\",\n",
    "    \"hs_directory.csv\",\n",
    "    \"sat_results.csv\"\n",
    "]\n",
    "\n",
    "data = {}\n",
    "\n",
    "for f in data_files:\n",
    "    d = pd.read_csv(\"Data/{0}\".format(f))\n",
    "    data[f.replace(\".csv\", \"\")] = d"
   ]
  },
  {
   "cell_type": "markdown",
   "metadata": {},
   "source": [
    "# Read in the surveys"
   ]
  },
  {
   "cell_type": "code",
   "execution_count": 2,
   "metadata": {},
   "outputs": [],
   "source": [
    "all_survey = pd.read_csv(\"Data/survey_all.txt\", delimiter=\"\\t\", encoding='windows-1252')\n",
    "d75_survey = pd.read_csv(\"Data/survey_d75.txt\", delimiter=\"\\t\", encoding='windows-1252')\n",
    "survey = pd.concat([all_survey, d75_survey], axis=0)\n",
    "\n",
    "survey[\"DBN\"] = survey[\"dbn\"]\n",
    "\n",
    "survey_fields = [\n",
    "    \"DBN\", \n",
    "    \"rr_s\", \n",
    "    \"rr_t\", \n",
    "    \"rr_p\", \n",
    "    \"N_s\", \n",
    "    \"N_t\", \n",
    "    \"N_p\", \n",
    "    \"saf_p_11\", \n",
    "    \"com_p_11\", \n",
    "    \"eng_p_11\", \n",
    "    \"aca_p_11\", \n",
    "    \"saf_t_11\", \n",
    "    \"com_t_11\", \n",
    "    \"eng_t_11\", \n",
    "    \"aca_t_11\", \n",
    "    \"saf_s_11\", \n",
    "    \"com_s_11\", \n",
    "    \"eng_s_11\", \n",
    "    \"aca_s_11\", \n",
    "    \"saf_tot_11\", \n",
    "    \"com_tot_11\", \n",
    "    \"eng_tot_11\", \n",
    "    \"aca_tot_11\",\n",
    "]\n",
    "survey = survey.loc[:,survey_fields]\n",
    "data[\"survey\"] = survey"
   ]
  },
  {
   "cell_type": "markdown",
   "metadata": {},
   "source": [
    "# Add DBN columns"
   ]
  },
  {
   "cell_type": "code",
   "execution_count": 3,
   "metadata": {},
   "outputs": [],
   "source": [
    "data[\"hs_directory\"][\"DBN\"] = data[\"hs_directory\"][\"dbn\"]\n",
    "\n",
    "def pad_csd(num):\n",
    "    string_representation = str(num)\n",
    "    if len(string_representation) > 1:\n",
    "        return string_representation\n",
    "    else:\n",
    "        return \"0\" + string_representation\n",
    "    \n",
    "data[\"class_size\"][\"padded_csd\"] = data[\"class_size\"][\"CSD\"].apply(pad_csd)\n",
    "data[\"class_size\"][\"DBN\"] = data[\"class_size\"][\"padded_csd\"] + data[\"class_size\"][\"SCHOOL CODE\"]\n"
   ]
  },
  {
   "cell_type": "markdown",
   "metadata": {},
   "source": [
    "# Convert columns to numeric"
   ]
  },
  {
   "cell_type": "code",
   "execution_count": 4,
   "metadata": {},
   "outputs": [],
   "source": [
    "cols = ['SAT Math Avg. Score', 'SAT Critical Reading Avg. Score', 'SAT Writing Avg. Score']\n",
    "for c in cols:\n",
    "    data[\"sat_results\"][c] = pd.to_numeric(data[\"sat_results\"][c], errors=\"coerce\")\n",
    "\n",
    "data['sat_results']['sat_score'] = data['sat_results'][cols[0]] + data['sat_results'][cols[1]] + data['sat_results'][cols[2]]\n",
    "\n",
    "def find_lat(loc):\n",
    "    coords = re.findall(\"\\(.+, .+\\)\", loc)\n",
    "    lat = coords[0].split(\",\")[0].replace(\"(\", \"\")\n",
    "    return lat\n",
    "\n",
    "def find_lon(loc):\n",
    "    coords = re.findall(\"\\(.+, .+\\)\", loc)\n",
    "    lon = coords[0].split(\",\")[1].replace(\")\", \"\").strip()\n",
    "    return lon\n",
    "\n",
    "data[\"hs_directory\"][\"lat\"] = data[\"hs_directory\"][\"Location 1\"].apply(find_lat)\n",
    "data[\"hs_directory\"][\"lon\"] = data[\"hs_directory\"][\"Location 1\"].apply(find_lon)\n",
    "\n",
    "data[\"hs_directory\"][\"lat\"] = pd.to_numeric(data[\"hs_directory\"][\"lat\"], errors=\"coerce\")\n",
    "data[\"hs_directory\"][\"lon\"] = pd.to_numeric(data[\"hs_directory\"][\"lon\"], errors=\"coerce\")"
   ]
  },
  {
   "cell_type": "markdown",
   "metadata": {},
   "source": [
    "# Condense datasets"
   ]
  },
  {
   "cell_type": "code",
   "execution_count": 5,
   "metadata": {},
   "outputs": [],
   "source": [
    "class_size = data[\"class_size\"]\n",
    "#excel grade stored as date type\n",
    "class_size = class_size[class_size[\"GRADE \"] == \"12-Sep\"]\n",
    "class_size = class_size[class_size[\"PROGRAM TYPE\"] == \"GEN ED\"]\n",
    "\n",
    "class_size = class_size.groupby(\"DBN\").agg(numpy.mean)\n",
    "class_size.reset_index(inplace=True)\n",
    "data[\"class_size\"] = class_size\n",
    "\n",
    "data[\"demographics\"] = data[\"demographics\"][data[\"demographics\"][\"schoolyear\"] == 20112012]\n",
    "\n",
    "data[\"graduation\"] = data[\"graduation\"][data[\"graduation\"][\"Cohort\"] == \"2006\"]\n",
    "data[\"graduation\"] = data[\"graduation\"][data[\"graduation\"][\"Demographic\"] == \"Total Cohort\"]"
   ]
  },
  {
   "cell_type": "code",
   "execution_count": 6,
   "metadata": {},
   "outputs": [
    {
     "data": {
      "text/html": [
       "<div>\n",
       "<style scoped>\n",
       "    .dataframe tbody tr th:only-of-type {\n",
       "        vertical-align: middle;\n",
       "    }\n",
       "\n",
       "    .dataframe tbody tr th {\n",
       "        vertical-align: top;\n",
       "    }\n",
       "\n",
       "    .dataframe thead th {\n",
       "        text-align: right;\n",
       "    }\n",
       "</style>\n",
       "<table border=\"1\" class=\"dataframe\">\n",
       "  <thead>\n",
       "    <tr style=\"text-align: right;\">\n",
       "      <th></th>\n",
       "      <th>DBN</th>\n",
       "      <th>CSD</th>\n",
       "      <th>NUMBER OF STUDENTS / SEATS FILLED</th>\n",
       "      <th>NUMBER OF SECTIONS</th>\n",
       "      <th>AVERAGE CLASS SIZE</th>\n",
       "      <th>SIZE OF SMALLEST CLASS</th>\n",
       "      <th>SIZE OF LARGEST CLASS</th>\n",
       "      <th>SCHOOLWIDE PUPIL-TEACHER RATIO</th>\n",
       "    </tr>\n",
       "  </thead>\n",
       "  <tbody>\n",
       "    <tr>\n",
       "      <th>0</th>\n",
       "      <td>01M292</td>\n",
       "      <td>1</td>\n",
       "      <td>88.000000</td>\n",
       "      <td>4.000000</td>\n",
       "      <td>22.564286</td>\n",
       "      <td>18.500000</td>\n",
       "      <td>26.571429</td>\n",
       "      <td>NaN</td>\n",
       "    </tr>\n",
       "    <tr>\n",
       "      <th>1</th>\n",
       "      <td>01M332</td>\n",
       "      <td>1</td>\n",
       "      <td>46.000000</td>\n",
       "      <td>2.000000</td>\n",
       "      <td>22.000000</td>\n",
       "      <td>21.000000</td>\n",
       "      <td>23.500000</td>\n",
       "      <td>NaN</td>\n",
       "    </tr>\n",
       "    <tr>\n",
       "      <th>2</th>\n",
       "      <td>01M378</td>\n",
       "      <td>1</td>\n",
       "      <td>33.000000</td>\n",
       "      <td>1.000000</td>\n",
       "      <td>33.000000</td>\n",
       "      <td>33.000000</td>\n",
       "      <td>33.000000</td>\n",
       "      <td>NaN</td>\n",
       "    </tr>\n",
       "    <tr>\n",
       "      <th>3</th>\n",
       "      <td>01M448</td>\n",
       "      <td>1</td>\n",
       "      <td>105.687500</td>\n",
       "      <td>4.750000</td>\n",
       "      <td>22.231250</td>\n",
       "      <td>18.250000</td>\n",
       "      <td>27.062500</td>\n",
       "      <td>NaN</td>\n",
       "    </tr>\n",
       "    <tr>\n",
       "      <th>4</th>\n",
       "      <td>01M450</td>\n",
       "      <td>1</td>\n",
       "      <td>57.600000</td>\n",
       "      <td>2.733333</td>\n",
       "      <td>21.200000</td>\n",
       "      <td>19.400000</td>\n",
       "      <td>22.866667</td>\n",
       "      <td>NaN</td>\n",
       "    </tr>\n",
       "    <tr>\n",
       "      <th>...</th>\n",
       "      <td>...</td>\n",
       "      <td>...</td>\n",
       "      <td>...</td>\n",
       "      <td>...</td>\n",
       "      <td>...</td>\n",
       "      <td>...</td>\n",
       "      <td>...</td>\n",
       "      <td>...</td>\n",
       "    </tr>\n",
       "    <tr>\n",
       "      <th>578</th>\n",
       "      <td>32K549</td>\n",
       "      <td>32</td>\n",
       "      <td>71.066667</td>\n",
       "      <td>3.266667</td>\n",
       "      <td>22.760000</td>\n",
       "      <td>19.866667</td>\n",
       "      <td>25.866667</td>\n",
       "      <td>NaN</td>\n",
       "    </tr>\n",
       "    <tr>\n",
       "      <th>579</th>\n",
       "      <td>32K552</td>\n",
       "      <td>32</td>\n",
       "      <td>102.375000</td>\n",
       "      <td>4.312500</td>\n",
       "      <td>23.900000</td>\n",
       "      <td>19.937500</td>\n",
       "      <td>28.000000</td>\n",
       "      <td>NaN</td>\n",
       "    </tr>\n",
       "    <tr>\n",
       "      <th>580</th>\n",
       "      <td>32K554</td>\n",
       "      <td>32</td>\n",
       "      <td>66.937500</td>\n",
       "      <td>3.812500</td>\n",
       "      <td>17.793750</td>\n",
       "      <td>14.750000</td>\n",
       "      <td>21.625000</td>\n",
       "      <td>NaN</td>\n",
       "    </tr>\n",
       "    <tr>\n",
       "      <th>581</th>\n",
       "      <td>32K556</td>\n",
       "      <td>32</td>\n",
       "      <td>132.333333</td>\n",
       "      <td>5.400000</td>\n",
       "      <td>25.060000</td>\n",
       "      <td>18.333333</td>\n",
       "      <td>30.000000</td>\n",
       "      <td>NaN</td>\n",
       "    </tr>\n",
       "    <tr>\n",
       "      <th>582</th>\n",
       "      <td>32K564</td>\n",
       "      <td>32</td>\n",
       "      <td>136.142857</td>\n",
       "      <td>5.428571</td>\n",
       "      <td>24.964286</td>\n",
       "      <td>20.071429</td>\n",
       "      <td>28.571429</td>\n",
       "      <td>NaN</td>\n",
       "    </tr>\n",
       "  </tbody>\n",
       "</table>\n",
       "<p>583 rows × 8 columns</p>\n",
       "</div>"
      ],
      "text/plain": [
       "        DBN  CSD  NUMBER OF STUDENTS / SEATS FILLED  NUMBER OF SECTIONS  \\\n",
       "0    01M292    1                          88.000000            4.000000   \n",
       "1    01M332    1                          46.000000            2.000000   \n",
       "2    01M378    1                          33.000000            1.000000   \n",
       "3    01M448    1                         105.687500            4.750000   \n",
       "4    01M450    1                          57.600000            2.733333   \n",
       "..      ...  ...                                ...                 ...   \n",
       "578  32K549   32                          71.066667            3.266667   \n",
       "579  32K552   32                         102.375000            4.312500   \n",
       "580  32K554   32                          66.937500            3.812500   \n",
       "581  32K556   32                         132.333333            5.400000   \n",
       "582  32K564   32                         136.142857            5.428571   \n",
       "\n",
       "     AVERAGE CLASS SIZE  SIZE OF SMALLEST CLASS  SIZE OF LARGEST CLASS  \\\n",
       "0             22.564286               18.500000              26.571429   \n",
       "1             22.000000               21.000000              23.500000   \n",
       "2             33.000000               33.000000              33.000000   \n",
       "3             22.231250               18.250000              27.062500   \n",
       "4             21.200000               19.400000              22.866667   \n",
       "..                  ...                     ...                    ...   \n",
       "578           22.760000               19.866667              25.866667   \n",
       "579           23.900000               19.937500              28.000000   \n",
       "580           17.793750               14.750000              21.625000   \n",
       "581           25.060000               18.333333              30.000000   \n",
       "582           24.964286               20.071429              28.571429   \n",
       "\n",
       "     SCHOOLWIDE PUPIL-TEACHER RATIO  \n",
       "0                               NaN  \n",
       "1                               NaN  \n",
       "2                               NaN  \n",
       "3                               NaN  \n",
       "4                               NaN  \n",
       "..                              ...  \n",
       "578                             NaN  \n",
       "579                             NaN  \n",
       "580                             NaN  \n",
       "581                             NaN  \n",
       "582                             NaN  \n",
       "\n",
       "[583 rows x 8 columns]"
      ]
     },
     "execution_count": 6,
     "metadata": {},
     "output_type": "execute_result"
    }
   ],
   "source": [
    "data['class_size']"
   ]
  },
  {
   "cell_type": "markdown",
   "metadata": {},
   "source": [
    "# Convert AP scores to numeric"
   ]
  },
  {
   "cell_type": "code",
   "execution_count": 7,
   "metadata": {},
   "outputs": [],
   "source": [
    "cols = ['AP Test Takers ', 'Total Exams Taken', 'Number of Exams with scores 3 4 or 5']\n",
    "\n",
    "for col in cols:\n",
    "    data[\"ap_2010\"][col] = pd.to_numeric(data[\"ap_2010\"][col], errors=\"coerce\")"
   ]
  },
  {
   "cell_type": "markdown",
   "metadata": {},
   "source": [
    "# Combine the datasets"
   ]
  },
  {
   "cell_type": "code",
   "execution_count": 8,
   "metadata": {},
   "outputs": [
    {
     "data": {
      "text/plain": [
       "(363, 165)"
      ]
     },
     "execution_count": 8,
     "metadata": {},
     "output_type": "execute_result"
    }
   ],
   "source": [
    "combined = data[\"sat_results\"]\n",
    "\n",
    "combined = combined.merge(data[\"ap_2010\"], on=\"DBN\", how=\"left\")\n",
    "combined = combined.merge(data[\"graduation\"], on=\"DBN\", how=\"left\")\n",
    "\n",
    "to_merge = [\"class_size\", \"demographics\", \"survey\", \"hs_directory\"]\n",
    "\n",
    "for m in to_merge:\n",
    "    combined = combined.merge(data[m], on=\"DBN\", how=\"inner\")\n",
    "\n",
    "combined = combined.fillna(combined.mean())\n",
    "combined = combined.fillna(0)\n",
    "combined.shape"
   ]
  },
  {
   "cell_type": "markdown",
   "metadata": {},
   "source": [
    "# Add a school district column for mapping"
   ]
  },
  {
   "cell_type": "code",
   "execution_count": 9,
   "metadata": {},
   "outputs": [],
   "source": [
    "def get_first_two_chars(dbn):\n",
    "    return dbn[0:2]\n",
    "\n",
    "combined[\"school_dist\"] = combined[\"DBN\"].apply(get_first_two_chars)"
   ]
  },
  {
   "cell_type": "markdown",
   "metadata": {},
   "source": [
    "# Find correlations"
   ]
  },
  {
   "cell_type": "code",
   "execution_count": 10,
   "metadata": {},
   "outputs": [
    {
     "name": "stdout",
     "output_type": "stream",
     "text": [
      "SAT Critical Reading Avg. Score    0.986820\n",
      "SAT Math Avg. Score                0.972643\n",
      "SAT Writing Avg. Score             0.987771\n",
      "sat_score                          1.000000\n",
      "AP Test Takers                     0.523140\n",
      "                                     ...   \n",
      "Census Tract                       0.048737\n",
      "BIN                                0.052232\n",
      "BBL                                0.044427\n",
      "lat                               -0.121029\n",
      "lon                               -0.132222\n",
      "Name: sat_score, Length: 85, dtype: float64\n"
     ]
    }
   ],
   "source": [
    "correlations = combined.corr()\n",
    "correlations = correlations[\"sat_score\"]\n",
    "print(correlations)"
   ]
  },
  {
   "cell_type": "markdown",
   "metadata": {},
   "source": [
    "# Plotting survey correlations"
   ]
  },
  {
   "cell_type": "code",
   "execution_count": 11,
   "metadata": {},
   "outputs": [],
   "source": [
    "# Remove DBN since it's a unique identifier, not a useful numerical value for correlation.\n",
    "survey_fields.remove(\"DBN\")"
   ]
  },
  {
   "cell_type": "code",
   "execution_count": 12,
   "metadata": {},
   "outputs": [],
   "source": [
    "#remove unnecessary columns\n",
    "# Remove columns that are not useful for correlation.\n",
    "survey_correlations = correlations[[\"saf_p_11\", \n",
    "    \"com_p_11\", \n",
    "    \"eng_p_11\", \n",
    "    \"aca_p_11\", \n",
    "    \"saf_t_11\", \n",
    "    \"com_t_11\", \n",
    "    \"eng_t_11\", \n",
    "    \"aca_t_11\", \n",
    "    \"saf_s_11\", \n",
    "    \"com_s_11\", \n",
    "    \"eng_s_11\", \n",
    "    \"aca_s_11\", \n",
    "    \"saf_tot_11\", \n",
    "    \"com_tot_11\", \n",
    "    \"eng_tot_11\", \n",
    "    \"aca_tot_11\",]]\n",
    "\n",
    "# Change column names\n",
    "survey_correlations = survey_correlations.rename(index={\n",
    "    \"saf_p_11\":\"Parents - safety & respect\", \n",
    "    \"com_p_11\":\"Parents - communication\", \n",
    "    \"eng_p_11\":\"Parents - engagement\", \n",
    "    \"aca_p_11\":\"Parents - academic expectations\",\n",
    "    \"saf_t_11\":\"Teachers - safety & respect\", \n",
    "    \"com_t_11\":\"Teachers - communication\", \n",
    "    \"eng_t_11\":\"Teachers - engagement\", \n",
    "    \"aca_t_11\":\"Teachers - academic expectations\", \n",
    "    \"saf_s_11\":\"Students - safety & respect\", \n",
    "    \"com_s_11\":\"Students - communication\", \n",
    "    \"eng_s_11\":\"Students - engagement\", \n",
    "    \"aca_s_11\":\"Students - academic expectations\", \n",
    "    \"saf_tot_11\":\"Total - safety & respect\", \n",
    "    \"com_tot_11\":\"Total - communication\", \n",
    "    \"eng_tot_11\":\"Total - engagement\", \n",
    "    \"aca_tot_11\":\"Total - academic expectations\"})"
   ]
  },
  {
   "cell_type": "code",
   "execution_count": 13,
   "metadata": {},
   "outputs": [
    {
     "data": {
      "text/plain": [
       "Text(0.5, 1.0, 'Survey Fields vs SAT Score')"
      ]
     },
     "execution_count": 13,
     "metadata": {},
     "output_type": "execute_result"
    },
    {
     "data": {
      "image/png": "[encoded data removed]",
      "text/plain": [
       "<Figure size 432x288 with 1 Axes>"
      ]
     },
     "metadata": {
      "needs_background": "light"
     },
     "output_type": "display_data"
    }
   ],
   "source": [
    "import matplotlib.pyplot as plt \n",
    "%matplotlib inline\n",
    "ax = survey_correlations.plot.barh(color='blue')\n",
    "ax.tick_params(bottom=False, left=False, top=False, right=False)\n",
    "for key, spine in ax.spines.items():\n",
    " spine.set_visible(False)\n",
    "ax.axvline(c='red')\n",
    "ax.set_title('Survey Fields vs SAT Score')"
   ]
  },
  {
   "cell_type": "markdown",
   "metadata": {},
   "source": [
    "It looks like there is a high correlation between SAT score and the amount of academic expecations held by student and teachers, as well as how safety and respect are percieved by these individuals. \n",
    "\n",
    "Surprisingly, all fields in the parent surveys have very little correlation with SAT score, and even an inverse correlation when it comes to how parents percieve communicaiton. \n",
    "\n",
    "Since we are observing a high correlation between safety scores and SAT scores, lets investigate this relationship further. "
   ]
  },
  {
   "cell_type": "code",
   "execution_count": 14,
   "metadata": {},
   "outputs": [
    {
     "data": {
      "text/plain": [
       "Text(0.5, 1.0, 'saf_s_11 vs sat_score')"
      ]
     },
     "execution_count": 14,
     "metadata": {},
     "output_type": "execute_result"
    },
    {
     "data": {
      "image/png": "[encoded data removed]",
      "text/plain": [
       "<Figure size 432x288 with 1 Axes>"
      ]
     },
     "metadata": {
      "needs_background": "light"
     },
     "output_type": "display_data"
    }
   ],
   "source": [
    "#plot student safety vs sat score \n",
    "%matplotlib inline\n",
    "ax = combined.plot.scatter('saf_s_11', 'sat_score')\n",
    "ax.tick_params(bottom=False, left=False, top=False, right=False)\n",
    "for key, spine in ax.spines.items():\n",
    " spine.set_visible(False)\n",
    "ax.set_title('saf_s_11 vs sat_score')"
   ]
  },
  {
   "cell_type": "markdown",
   "metadata": {},
   "source": [
    "There appears to be a correlation between SAT scores and safety, although it isn't thatstrong. It looks like there are a few schools with extremely high SAT scores and high safety scores. There are a few schools with low safety scores and low SAT scores. No school with a safety score lower than 6.5 has an average SAT score higher than 1500 or so."
   ]
  },
  {
   "cell_type": "code",
   "execution_count": 15,
   "metadata": {},
   "outputs": [
    {
     "data": {
      "text/plain": [
       "Text(0.5, 1.0, 'saf_t_11 vs sat_score')"
      ]
     },
     "execution_count": 15,
     "metadata": {},
     "output_type": "execute_result"
    },
    {
     "data": {
      "image/png": "[encoded data removed]",
      "text/plain": [
       "<Figure size 432x288 with 1 Axes>"
      ]
     },
     "metadata": {
      "needs_background": "light"
     },
     "output_type": "display_data"
    }
   ],
   "source": [
    "#plot teacher safety vs sat score \n",
    "ax = combined.plot.scatter('saf_t_11', 'sat_score')\n",
    "ax.tick_params(bottom=False, left=False, top=False, right=False)\n",
    "for key, spine in ax.spines.items():\n",
    " spine.set_visible(False)\n",
    "ax.set_title('saf_t_11 vs sat_score')"
   ]
  },
  {
   "cell_type": "markdown",
   "metadata": {},
   "source": [
    "It looks like this relationship is similiar to the one between student's saftey and respect score  an their SAT scores. But teachers percieve safety and respect to be higher (between 6 and 8) at the same level of SAT scores. \n",
    "\n",
    "Now that we better understand the nature of this relationship, let's observe this relationship geographically by calculating the average safety score for each borrough. "
   ]
  },
  {
   "cell_type": "markdown",
   "metadata": {},
   "source": [
    "# Saftety Scores by Geographic Location "
   ]
  },
  {
   "cell_type": "code",
   "execution_count": 16,
   "metadata": {},
   "outputs": [
    {
     "data": {
      "text/plain": [
       "Text(0.5, 1.0, 'Teacher Safety Score by Borough')"
      ]
     },
     "execution_count": 16,
     "metadata": {},
     "output_type": "execute_result"
    },
    {
     "data": {
      "image/png": "[encoded data removed]",
      "text/plain": [
       "<Figure size 864x864 with 2 Axes>"
      ]
     },
     "metadata": {
      "needs_background": "light"
     },
     "output_type": "display_data"
    }
   ],
   "source": [
    "import numpy as np\n",
    "#average saftey score by geographic area\n",
    "safety_by_borough = combined.groupby('borough').agg(np.mean)[['saf_p_11', 'saf_s_11', 'saf_t_11', 'saf_tot_11']]\n",
    "safety_by_borough.reset_index(inplace=True)\n",
    "\n",
    "#plot between all boroughs\n",
    "fig = plt.figure(figsize = (12, 12))\n",
    "\n",
    "#add subplots\n",
    "ax1 = fig.add_subplot(2, 2, 1)\n",
    "ax2 = fig.add_subplot(2, 2, 2)\n",
    "\n",
    "#students\n",
    "ax = safety_by_borough.plot.bar(x='borough', y='saf_s_11', ax = ax1, color='blue')\n",
    "ax.tick_params(bottom=False, left=False, top=False, right=False)\n",
    "ax.spines['right'].set_visible(False)\n",
    "ax.spines['top'].set_visible(False)\n",
    "ax.set_ylim(6, 7.5)\n",
    "ax.get_legend().remove()\n",
    "ax.set_xlabel('Avg Safety Score')\n",
    "ax.set_title('Student Saftey Score by Borough')\n",
    "\n",
    "#teachers \n",
    "ax = safety_by_borough.plot.bar(x='borough', y='saf_t_11', ax=ax2, color='blue')\n",
    "ax.tick_params(bottom=False, left=False, top=False, right=False)\n",
    "ax.spines['right'].set_visible(False)\n",
    "ax.spines['top'].set_visible(False)\n",
    "ax.set_ylim(6, 7.5)\n",
    "ax.get_legend().remove()\n",
    "ax.set_xlabel('Avg Safety Score')\n",
    "ax.set_title('Teacher Safety Score by Borough')\n"
   ]
  },
  {
   "cell_type": "markdown",
   "metadata": {},
   "source": [
    "Brooklyn has the lowest safety score for both students and teachers. Manhaten has the highest safety score for students, while Queens has the highest safety score for teachers. Before moving on, let's take a look at SAT score by borough. "
   ]
  },
  {
   "cell_type": "code",
   "execution_count": 17,
   "metadata": {},
   "outputs": [
    {
     "data": {
      "text/plain": [
       "Text(0.5, 1.0, 'Avg. SAT Score by Borrough')"
      ]
     },
     "execution_count": 17,
     "metadata": {},
     "output_type": "execute_result"
    },
    {
     "data": {
      "image/png": "[encoded data removed]",
      "text/plain": [
       "<Figure size 432x288 with 1 Axes>"
      ]
     },
     "metadata": {
      "needs_background": "light"
     },
     "output_type": "display_data"
    }
   ],
   "source": [
    "sat_by_borough = combined.groupby('borough').agg(np.mean)['sat_score']\n",
    "\n",
    "ax=sat_by_borough.plot.bar(x='boro', y='sat_score', color='blue')\n",
    "ax.tick_params(bottom=False, left=False, top=False, right=False)\n",
    "ax.spines['right'].set_visible(False)\n",
    "ax.spines['top'].set_visible(False)\n",
    "ax.set_title('Avg. SAT Score by Borrough')"
   ]
  },
  {
   "cell_type": "markdown",
   "metadata": {},
   "source": [
    "We can see that saftey is not the only factor leading to a higher safety score, with Staten Island, a borrough that recieved lower safety score, has the highest avgerage SAT score. \n",
    "\n",
    "Now let's explore the relationship between race and SAT scores. "
   ]
  },
  {
   "cell_type": "markdown",
   "metadata": {
    "collapsed": true
   },
   "source": [
    "# Exploring Race and SAT Scores "
   ]
  },
  {
   "cell_type": "code",
   "execution_count": 18,
   "metadata": {},
   "outputs": [
    {
     "data": {
      "text/plain": [
       "Text(0.5, 1.0, 'Correlations of Race and SAT Score')"
      ]
     },
     "execution_count": 18,
     "metadata": {},
     "output_type": "execute_result"
    },
    {
     "data": {
      "image/png": "[encoded data removed]",
      "text/plain": [
       "<Figure size 432x288 with 1 Axes>"
      ]
     },
     "metadata": {
      "needs_background": "light"
     },
     "output_type": "display_data"
    }
   ],
   "source": [
    "race_cols = ['white_per', 'asian_per', 'black_per', 'hispanic_per']\n",
    "race_correlations = correlations[race_cols]\n",
    "#correlations between race and SAT score \n",
    "ax = race_correlations.plot.barh(color='blue')\n",
    "#horizontal line at eor \n",
    "ax.axvline(c='r')\n",
    "\n",
    "ax.tick_params(bottom=False, left=False, top=False, right=False)\n",
    "for key, spine in ax.spines.items():\n",
    " spine.set_visible(False)\n",
    "ax.set_xlabel('Correlation')\n",
    "ax.set_ylabel('Race')\n",
    "ax.set_title('Correlations of Race and SAT Score')"
   ]
  },
  {
   "cell_type": "markdown",
   "metadata": {},
   "source": [
    "Schools with higher percentages of white and asian students are highly correlated with SAT scores. On the other hand, schools with high percentages of black and hispanic students are inversely correlated with SAT scores. There is in fact a gender bias in SAT scores. \n",
    "\n",
    "Based on this discovery, let's further explore the relationship between hispanic and black percentages and SAT scores. "
   ]
  },
  {
   "cell_type": "code",
   "execution_count": 19,
   "metadata": {},
   "outputs": [
    {
     "data": {
      "text/plain": [
       "Text(0.5, 1.0, '% White Students vs SAT Score')"
      ]
     },
     "execution_count": 19,
     "metadata": {},
     "output_type": "execute_result"
    },
    {
     "data": {
      "image/png": "[encoded data removed]",
      "text/plain": [
       "<Figure size 864x432 with 4 Axes>"
      ]
     },
     "metadata": {
      "needs_background": "light"
     },
     "output_type": "display_data"
    }
   ],
   "source": [
    "fig = plt.figure(figsize=(12,6))\n",
    "fig.subplots_adjust(hspace=0.5)\n",
    "\n",
    "\n",
    "#set axis \n",
    "ax1 = fig.add_subplot(2, 2, 1)\n",
    "ax2 = fig.add_subplot(2, 2, 2)\n",
    "ax3 = fig.add_subplot(2, 2, 3)\n",
    "ax4 = fig.add_subplot(2, 2, 4)\n",
    "\n",
    "#filter schools by majority \n",
    "his_schools = combined[combined['hispanic_per'] > 50]\n",
    "black_schools = combined[combined['black_per'] > 50]\n",
    "asian_schools = combined[combined['asian_per'] > 50]\n",
    "white_schools = combined[combined['white_per'] > 50]\n",
    "\n",
    "#hispanic\n",
    "ax = his_schools.plot.scatter('hispanic_per', 'sat_score', ax=ax1, color='red')\n",
    "ax.tick_params(bottom=False, left=False, top=False, right=False)\n",
    "ax.spines['right'].set_visible(False)\n",
    "ax.spines['top'].set_visible(False)\n",
    "ax.set_xlim(50,100)\n",
    "ax.set_title('% Hispanic Students vs SAT Score')\n",
    "\n",
    "#black \n",
    "ax = black_schools.plot.scatter('black_per', 'sat_score', ax=ax2, color='black')\n",
    "ax.tick_params(bottom=False, left=False, top=False, right=False)\n",
    "ax.spines['right'].set_visible(False)\n",
    "ax.spines['top'].set_visible(False)\n",
    "ax.set_xlim(50,100)\n",
    "ax.set_ylim(800, 2200)\n",
    "ax.set_title('% Black Students vs SAT Score')\n",
    "\n",
    "#asian \n",
    "ax = asian_schools.plot.scatter('asian_per', 'sat_score', ax=ax3, color='green')\n",
    "ax.tick_params(bottom=False, left=False, top=False, right=False)\n",
    "ax.spines['right'].set_visible(False)\n",
    "ax.spines['top'].set_visible(False)\n",
    "ax.set_xlim(50,100)\n",
    "ax.set_ylim(800, 2200)\n",
    "ax.set_title('% Asian Students vs SAT Score')\n",
    "\n",
    "#white\n",
    "ax = white_schools.plot.scatter('white_per', 'sat_score', ax=ax4, color='blue')\n",
    "ax.tick_params(bottom=False, left=False, top=False, right=False)\n",
    "ax.spines['right'].set_visible(False)\n",
    "ax.spines['top'].set_visible(False)\n",
    "ax.set_xlim(50,100)\n",
    "ax.set_ylim(800, 2200)\n",
    "ax.set_title('% White Students vs SAT Score')"
   ]
  },
  {
   "cell_type": "markdown",
   "metadata": {},
   "source": [
    "The relationship between race and SAT score mentioned above is further clarified, although the positive linear relationship between Asian and White % is not as strong as the linear relationship between Black and Hispanic %. \n",
    "\n",
    "There are also much  more schools with more Hispanic and Black students than schools with more White and Asian students. \n",
    "\n",
    "Now let's investigate what kinds of schools have high percentages of Hispanic students to see if there is anything else causing this strong inverse relationship. "
   ]
  },
  {
   "cell_type": "code",
   "execution_count": 20,
   "metadata": {},
   "outputs": [
    {
     "data": {
      "text/plain": [
       "44             Manhattan Bridges High School\n",
       "82                                         0\n",
       "89            GREGORIO LUPERON HS SCI & MATH\n",
       "125      Academy for Language and Technology\n",
       "141    International School for Liberal Arts\n",
       "176                                        0\n",
       "253                Multicultural High School\n",
       "286                                        0\n",
       "Name: SchoolName, dtype: object"
      ]
     },
     "execution_count": 20,
     "metadata": {},
     "output_type": "execute_result"
    }
   ],
   "source": [
    "large_hispanic = combined[combined['hispanic_per'] > 95]\n",
    "large_hispanic['SchoolName']"
   ]
  },
  {
   "cell_type": "markdown",
   "metadata": {},
   "source": [
    "After some research, it appears that many of these schools cater to immigrants who are learning English. Let's calculate the average SAT score of these schools. "
   ]
  },
  {
   "cell_type": "code",
   "execution_count": 21,
   "metadata": {},
   "outputs": [
    {
     "data": {
      "text/plain": [
       "992.375"
      ]
     },
     "execution_count": 21,
     "metadata": {},
     "output_type": "execute_result"
    }
   ],
   "source": [
    "large_hispanic['sat_score'].mean()"
   ]
  },
  {
   "cell_type": "markdown",
   "metadata": {},
   "source": [
    "It is very understandable that these schools have very low SAT scores on averare. Now let's see what kind of schools have low percetnages of Hispanic students and see if there is a similair relaionship. "
   ]
  },
  {
   "cell_type": "code",
   "execution_count": 22,
   "metadata": {},
   "outputs": [
    {
     "data": {
      "text/plain": [
       "37                                         STUYVESANT HS\n",
       "46       High School for Dual Language and Asian Studies\n",
       "151                                  BRONX HS OF SCIENCE\n",
       "187                                BROOKLYN TECHNICAL HS\n",
       "192                          Bedford Academy High School\n",
       "194                            BENJAMIN BANNEKER ACADEMY\n",
       "220                                    BOYS AND GIRLS HS\n",
       "223    Academy for College Preparation and Career Exp...\n",
       "226              High School for Global Citizenship, The\n",
       "229    High School for Youth and Community Developmen...\n",
       "235                        MIDDLE COLL HS @ MEDGAR EVERS\n",
       "236                                     CLARA BARTON VHS\n",
       "280          Brooklyn Collegiate: A College Board School\n",
       "327                  Queens HS for Science York Colllege\n",
       "330                           Queens Preparatory Academy\n",
       "331    Pathways College Preparatory School: A College...\n",
       "353                                       TOTTENVILLE HS\n",
       "356                           STATEN ISLAND TECHNICAL HS\n",
       "Name: SchoolName, dtype: object"
      ]
     },
     "execution_count": 22,
     "metadata": {},
     "output_type": "execute_result"
    }
   ],
   "source": [
    "small_hispanic = combined[combined['hispanic_per'] < 10]\n",
    "small_hispanic[small_hispanic['SchoolName'] != 0]['SchoolName']"
   ]
  },
  {
   "cell_type": "markdown",
   "metadata": {},
   "source": [
    "Many of these highschools are extremely technical colleges based arounf Brooklyn and Queens, areas with very low Hispanic populations."
   ]
  },
  {
   "cell_type": "code",
   "execution_count": 23,
   "metadata": {},
   "outputs": [
    {
     "data": {
      "text/plain": [
       "1318.41"
      ]
     },
     "execution_count": 23,
     "metadata": {},
     "output_type": "execute_result"
    }
   ],
   "source": [
    "round(small_hispanic['sat_score'].mean(), 2)"
   ]
  },
  {
   "cell_type": "markdown",
   "metadata": {},
   "source": [
    "These schools show well beyond the average SAT score across the country. Now that we see there is a clear racial bias in SAT scores, let's see if there is a gender bias as well. "
   ]
  },
  {
   "cell_type": "markdown",
   "metadata": {},
   "source": [
    "# Exploring Gender Bias in SAT Scores "
   ]
  },
  {
   "cell_type": "code",
   "execution_count": 24,
   "metadata": {},
   "outputs": [
    {
     "data": {
      "text/plain": [
       "Text(0.5, 1.0, 'Correlations of Sex and SAT Score')"
      ]
     },
     "execution_count": 24,
     "metadata": {},
     "output_type": "execute_result"
    },
    {
     "data": {
      "image/png": "[encoded data removed]",
      "text/plain": [
       "<Figure size 432x288 with 1 Axes>"
      ]
     },
     "metadata": {
      "needs_background": "light"
     },
     "output_type": "display_data"
    }
   ],
   "source": [
    "sex_correlations = correlations[['male_per', 'female_per']]\n",
    "#male_per, female_per\n",
    "ax = sex_correlations.plot.barh(color='blue')\n",
    "ax.axvline(c='r')\n",
    "ax.tick_params(bottom=False, left=False, top=False, right=False)\n",
    "for key, spine in ax.spines.items():\n",
    " spine.set_visible(False)\n",
    "ax.set_xlabel('Correlation')\n",
    "ax.set_ylabel('Sex')\n",
    "ax.set_xlim(-.12, .12)\n",
    "ax.axvline(c='r')\n",
    "ax.set_title('Correlations of Sex and SAT Score')\n"
   ]
  },
  {
   "cell_type": "markdown",
   "metadata": {},
   "source": [
    "There are almost exactly opposite correlations between both sexes and SAT score. The percentage of males in a school has a correlation with sat score of roughly -.12, while the percentage of females in a school has a correlation with sat score of .12. Lets investiaget the relattionship between female_per and sat_score further. "
   ]
  },
  {
   "cell_type": "code",
   "execution_count": 25,
   "metadata": {},
   "outputs": [
    {
     "data": {
      "text/plain": [
       "Text(0.5, 1.0, '% Female vs SAT Score')"
      ]
     },
     "execution_count": 25,
     "metadata": {},
     "output_type": "execute_result"
    },
    {
     "data": {
      "image/png": "[encoded data removed]",
      "text/plain": [
       "<Figure size 864x432 with 2 Axes>"
      ]
     },
     "metadata": {
      "needs_background": "light"
     },
     "output_type": "display_data"
    }
   ],
   "source": [
    "#create figure \n",
    "fig = plt.figure(figsize=(12, 6))\n",
    "\n",
    "#set axis \n",
    "ax1 = fig.add_subplot(1,2,1)\n",
    "ax2 = fig.add_subplot(1,2,2)\n",
    "\n",
    "#subset data to make charts more cear\n",
    "high_male = combined[combined['male_per'] > 50]\n",
    "high_female = combined[combined['female_per'] > 50]\n",
    "\n",
    "#men vs sat score \n",
    "ax = high_male.plot.scatter(x='male_per', y='sat_score', ax=ax1,color='blue')\n",
    "ax.set_ylim(800,2200)\n",
    "ax.set_xlim(50,100)\n",
    "ax.tick_params(bottom=False, left=False, top=False, right=False)\n",
    "ax.spines['right'].set_visible(False)\n",
    "ax.spines['top'].set_visible(False)\n",
    "ax.set_title('% Male vs SAT Score')\n",
    "\n",
    "#female vs sat_score\n",
    "ax = high_female.plot.scatter(x='female_per', y='sat_score', ax=ax2,color='red')\n",
    "ax.set_ylim(800,2200)\n",
    "ax.set_xlim(50,100)\n",
    "ax.tick_params(bottom=False, left=False, top=False, right=False)\n",
    "ax.spines['right'].set_visible(False)\n",
    "ax.spines['top'].set_visible(False)\n",
    "ax.set_title('% Female vs SAT Score')\n",
    "\n"
   ]
  },
  {
   "cell_type": "markdown",
   "metadata": {},
   "source": [
    "Most schools with more females have slightly higher SAT scores than schools with mostly males. There is an interesting gap in schools with mostly male studentt between SAT scores of 1400 and 2000+. There also seems to be much more all girl schools than all boy schools. Let's take a look at schools who have mostly women. "
   ]
  },
  {
   "cell_type": "code",
   "execution_count": 26,
   "metadata": {},
   "outputs": [
    {
     "data": {
      "text/plain": [
       "5                         Bard High School Early College\n",
       "26                         Eleanor Roosevelt High School\n",
       "60                                    Beacon High School\n",
       "61     Fiorello H. LaGuardia High School of Music & A...\n",
       "302                          Townsend Harris High School\n",
       "Name: school_name, dtype: object"
      ]
     },
     "execution_count": 26,
     "metadata": {},
     "output_type": "execute_result"
    }
   ],
   "source": [
    "high_sat_fem = combined[(combined['female_per'] > 60) & (combined['sat_score'] > 1700)]\n",
    "high_sat_fem[high_sat_fem['school_name'] != 0]['school_name']"
   ]
  },
  {
   "cell_type": "markdown",
   "metadata": {},
   "source": [
    "Most of these schools are college prepatory schools, showing that having a school that is mostly female does not neccesarily lead to high SAT scores. \n",
    "\n",
    "Now let's investigate the relationship between the percentage of students that have taken an Advanced Placement (AP) exam and SAT scores. "
   ]
  },
  {
   "cell_type": "code",
   "execution_count": 27,
   "metadata": {},
   "outputs": [
    {
     "data": {
      "text/plain": [
       "Text(0.5, 1.0, '% AP Tests Taken vs SAT Score')"
      ]
     },
     "execution_count": 27,
     "metadata": {},
     "output_type": "execute_result"
    },
    {
     "data": {
      "image/png": "[encoded data removed]",
      "text/plain": [
       "<Figure size 432x288 with 1 Axes>"
      ]
     },
     "metadata": {
      "needs_background": "light"
     },
     "output_type": "display_data"
    }
   ],
   "source": [
    "#create new column to calculate # AP exams \n",
    "combined['ap_per'] = combined['AP Test Takers '] / combined['total_enrollment']\n",
    "\n",
    "ax = combined.plot.scatter(x='ap_per', y='sat_score')\n",
    "ax.tick_params(bottom=False, left=False, top=False, right=False)\n",
    "for key, spine in ax.spines.items():\n",
    " spine.set_visible(False)\n",
    "ax.set_xlabel('% AP Test')\n",
    "ax.set_ylabel('SAT Score')\n",
    "ax.set_xlim(0,1)\n",
    "ax.set_title('% AP Tests Taken vs SAT Score')"
   ]
  },
  {
   "cell_type": "markdown",
   "metadata": {},
   "source": [
    "As expected, there is a strong positive relationship between the percentage of students who have taken AP tests and SAT socres, with the majority of htese students scoring in the 1200 range.  "
   ]
  },
  {
   "cell_type": "markdown",
   "metadata": {
    "collapsed": true
   },
   "source": [
    "# Conclusion\n",
    "We found the many factors can contribute to a school's average SAT score (race, gender location, etc.), not just the student's ability. For example, we found that school's with high proportions of Black or Latino students tend to have lower SAT scores than schools with high percentages of white or asian students. \n",
    "\n",
    "Gender also plays a role in SAT scores, where school's with a majority of female students having higher SAT scores than schools with a majorty of their students being male. "
   ]
  },
  {
   "cell_type": "code",
   "execution_count": null,
   "metadata": {},
   "outputs": [],
   "source": []
  }
 ],
 "metadata": {
  "kernelspec": {
   "display_name": "Python 3",
   "language": "python",
   "name": "python3"
  },
  "language_info": {
   "codemirror_mode": {
    "name": "ipython",
    "version": 3
   },
   "file_extension": ".py",
   "mimetype": "text/x-python",
   "name": "python",
   "nbconvert_exporter": "python",
   "pygments_lexer": "ipython3",
   "version": "3.8.5"
  }
 },
 "nbformat": 4,
 "nbformat_minor": 2
}
